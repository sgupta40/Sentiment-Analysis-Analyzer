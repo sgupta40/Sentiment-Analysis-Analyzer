{
 "cells": [
  {
   "cell_type": "markdown",
   "id": "09aaf7d8",
   "metadata": {},
   "source": [
    "## Imports"
   ]
  },
  {
   "cell_type": "code",
   "execution_count": 3,
   "id": "63892c2d",
   "metadata": {},
   "outputs": [],
   "source": [
    "import pandas as pd\n",
    "import numpy as np\n",
    "from gensim.models import Word2Vec\n",
    "from gensim.models import KeyedVectors\n",
    "from sklearn.model_selection import train_test_split\n",
    "from sklearn.metrics import accuracy_score, confusion_matrix, ConfusionMatrixDisplay\n",
    "from sklearn.linear_model import LogisticRegression\n",
    "import string\n",
    "from sklearn.preprocessing import OneHotEncoder\n",
    "import re\n",
    "from pyth.plugins.rtf15.reader import Rtf15Reader\n",
    "from pyth.plugins.plaintext.writer import PlaintextWriter\n",
    "import tkinter as tk\n",
    "from tkinter import messagebox"
   ]
  },
  {
   "cell_type": "markdown",
   "id": "32d8e42d",
   "metadata": {},
   "source": [
    "## Creating Word2Vec Model with Google Pre-trained data"
   ]
  },
  {
   "cell_type": "code",
   "execution_count": 4,
   "id": "2d118a3a",
   "metadata": {},
   "outputs": [],
   "source": [
    "#Loading in Data from Google News data\n",
    "#Pre-trained word2vec models uses SkipGram\n",
    "Word2Vec_G_model = KeyedVectors.load_word2vec_format('./GoogleNews-vectors-negative300.bin', binary=True)\n",
    "Word2Vec_G_model.save(\"Pretrained_Word2Vec_Model.model\")"
   ]
  },
  {
   "cell_type": "code",
   "execution_count": 5,
   "id": "f0086002",
   "metadata": {},
   "outputs": [],
   "source": [
    "#Ensuring Word2Vec Model\n",
    "Word2Vec_G_model = KeyedVectors.load(\"Pretrained_Word2Vec_Model.model\")"
   ]
  },
  {
   "cell_type": "code",
   "execution_count": 6,
   "id": "51c3f5c4",
   "metadata": {},
   "outputs": [
    {
     "data": {
      "text/plain": [
       "[('hi', 0.654898464679718),\n",
       " ('goodbye', 0.639905571937561),\n",
       " ('howdy', 0.6310957074165344),\n",
       " ('goodnight', 0.5920578241348267),\n",
       " ('greeting', 0.5855878591537476),\n",
       " ('Hello', 0.5842196345329285),\n",
       " (\"g'day\", 0.575407862663269),\n",
       " ('See_ya', 0.5688872337341309),\n",
       " ('ya_doin', 0.5643121004104614),\n",
       " ('greet', 0.5636604428291321)]"
      ]
     },
     "execution_count": 6,
     "metadata": {},
     "output_type": "execute_result"
    }
   ],
   "source": [
    "#Identiying similar words to \"Hello\" as an example test\n",
    "Word2Vec_G_model.most_similar(\"hello\", topn=10)"
   ]
  },
  {
   "cell_type": "code",
   "execution_count": 7,
   "id": "f2b838c0",
   "metadata": {},
   "outputs": [],
   "source": [
    "#Saving the model after all modifications\n",
    "Word2Vec_G_model.save(\"Pretrained_Word2Vec_Model.model\")"
   ]
  },
  {
   "cell_type": "markdown",
   "id": "d3d0a4b2",
   "metadata": {},
   "source": [
    "## Creating Word2Vec Model with Harry Potter Text"
   ]
  },
  {
   "cell_type": "code",
   "execution_count": 8,
   "id": "acc59bda",
   "metadata": {},
   "outputs": [],
   "source": [
    "# Convert RTF to plain text as harry potter file has rtf formatting\n",
    "def rtf_to_text(rtf_path):\n",
    "    document = Rtf15Reader.read(open(rtf_path, 'rb'))\n",
    "    text = PlaintextWriter.write(document).getvalue()\n",
    "    return text\n",
    "\n",
    "# Read and convert RTF to plain text\n",
    "hp_text = rtf_to_text('./HarryPotter.txt')"
   ]
  },
  {
   "cell_type": "code",
   "execution_count": 9,
   "id": "2c856ae3",
   "metadata": {},
   "outputs": [],
   "source": [
    "# Function to clean harry potter text\n",
    "def clean_text(text):\n",
    "    cleaned_text = re.sub(r'[^\\w\\s]', '', text) #Remove all characters not letters digits or whitespaces\n",
    "    cleaned_text = cleaned_text.lower()\n",
    "    return cleaned_text\n",
    "\n",
    "# Clean the hp_text\n",
    "hp_text = clean_text(hp_text)"
   ]
  },
  {
   "cell_type": "code",
   "execution_count": 10,
   "id": "6ee88863",
   "metadata": {},
   "outputs": [],
   "source": [
    "# Read and convert RTF to plain text\n",
    "hp_text = rtf_to_text('./HarryPotter.txt')"
   ]
  },
  {
   "cell_type": "code",
   "execution_count": 11,
   "id": "ec2bfa03",
   "metadata": {},
   "outputs": [],
   "source": [
    "# Clean the hp_text\n",
    "hp_text = clean_text(hp_text)"
   ]
  },
  {
   "cell_type": "code",
   "execution_count": 12,
   "id": "a0711819",
   "metadata": {},
   "outputs": [
    {
     "name": "stderr",
     "output_type": "stream",
     "text": [
      "IOPub data rate exceeded.\n",
      "The notebook server will temporarily stop sending output\n",
      "to the client in order to avoid crashing it.\n",
      "To change this limit, set the config variable\n",
      "`--NotebookApp.iopub_data_rate_limit`.\n",
      "\n",
      "Current values:\n",
      "NotebookApp.iopub_data_rate_limit=1000000.0 (bytes/sec)\n",
      "NotebookApp.rate_limit_window=3.0 (secs)\n",
      "\n"
     ]
    }
   ],
   "source": [
    "#Sanity Check\n",
    "print(hp_text)"
   ]
  },
  {
   "cell_type": "code",
   "execution_count": 13,
   "id": "e443f82e",
   "metadata": {},
   "outputs": [],
   "source": [
    "# Tokenize the harry potter text into words\n",
    "hp_text_tokens = hp_text.split()\n",
    "\n",
    "# Prepare the data for Word2Vec model\n",
    "hp_data = [hp_text_tokens]\n"
   ]
  },
  {
   "cell_type": "code",
   "execution_count": 14,
   "id": "c65aa5ce",
   "metadata": {},
   "outputs": [
    {
     "name": "stderr",
     "output_type": "stream",
     "text": [
      "IOPub data rate exceeded.\n",
      "The notebook server will temporarily stop sending output\n",
      "to the client in order to avoid crashing it.\n",
      "To change this limit, set the config variable\n",
      "`--NotebookApp.iopub_data_rate_limit`.\n",
      "\n",
      "Current values:\n",
      "NotebookApp.iopub_data_rate_limit=1000000.0 (bytes/sec)\n",
      "NotebookApp.rate_limit_window=3.0 (secs)\n",
      "\n"
     ]
    }
   ],
   "source": [
    "# Prepare the data for Word2Vec model\n",
    "hp_data = [hp_text_tokens]\n",
    "\n",
    "print(hp_data[:2])\n"
   ]
  },
  {
   "cell_type": "code",
   "execution_count": 15,
   "id": "187c0e58",
   "metadata": {},
   "outputs": [],
   "source": [
    "with open(\"list_of_tokens.txt\", \"w\") as f:\n",
    "    for token in hp_data:\n",
    "        f.write(\"%s\\n\" % token)"
   ]
  },
  {
   "cell_type": "code",
   "execution_count": 16,
   "id": "f63c780a",
   "metadata": {},
   "outputs": [],
   "source": [
    "# Define and train the Word2Vec model\n",
    "word2vec_model_hp = Word2Vec(sentences=hp_data, sg=1) #Using Skipgram"
   ]
  },
  {
   "cell_type": "code",
   "execution_count": 17,
   "id": "369c4815",
   "metadata": {},
   "outputs": [],
   "source": [
    "#Saving the Model\n",
    "word2vec_model_hp.save(\"HarryPotter_Word2Vec_Model.model\")"
   ]
  },
  {
   "cell_type": "code",
   "execution_count": 18,
   "id": "5dac5d3e",
   "metadata": {},
   "outputs": [],
   "source": [
    "#Loading the model back in\n",
    "word2vec_model_hp = KeyedVectors.load(\"HarryPotter_Word2Vec_Model.model\")"
   ]
  },
  {
   "cell_type": "code",
   "execution_count": 19,
   "id": "886ac38e",
   "metadata": {},
   "outputs": [
    {
     "data": {
      "text/plain": [
       "[('wormtail', 0.4082074761390686),\n",
       " ('flicking', 0.3299165666103363),\n",
       " ('etched', 0.31613707542419434),\n",
       " ('euphoria', 0.31468892097473145),\n",
       " ('div', 0.311764121055603),\n",
       " ('direct', 0.311526894569397),\n",
       " ('greatness', 0.3109626770019531),\n",
       " ('frog', 0.309980183839798),\n",
       " ('fee', 0.30158528685569763),\n",
       " ('limb', 0.294516384601593)]"
      ]
     },
     "execution_count": 19,
     "metadata": {},
     "output_type": "execute_result"
    }
   ],
   "source": [
    "#Identiying similar words to \"Hello\" as an example test\n",
    "word2vec_model_hp.wv.most_similar(\"hello\", topn=10)"
   ]
  },
  {
   "cell_type": "code",
   "execution_count": 20,
   "id": "c5b0f750",
   "metadata": {},
   "outputs": [],
   "source": [
    "#Saving the model after all modifications\n",
    "word2vec_model_hp.save(\"HarryPotter_Word2Vec_Model.model\")"
   ]
  },
  {
   "cell_type": "markdown",
   "id": "d9c28f5f",
   "metadata": {},
   "source": [
    "## Loading in Movie Review Dataset"
   ]
  },
  {
   "cell_type": "code",
   "execution_count": 21,
   "id": "a4044c67",
   "metadata": {},
   "outputs": [],
   "source": [
    "#Loading in data into dataframe\n",
    "movie_data = pd.read_csv('./movie_review.csv') "
   ]
  },
  {
   "cell_type": "code",
   "execution_count": 22,
   "id": "1ca15957",
   "metadata": {},
   "outputs": [
    {
     "data": {
      "text/html": [
       "<div>\n",
       "<style scoped>\n",
       "    .dataframe tbody tr th:only-of-type {\n",
       "        vertical-align: middle;\n",
       "    }\n",
       "\n",
       "    .dataframe tbody tr th {\n",
       "        vertical-align: top;\n",
       "    }\n",
       "\n",
       "    .dataframe thead th {\n",
       "        text-align: right;\n",
       "    }\n",
       "</style>\n",
       "<table border=\"1\" class=\"dataframe\">\n",
       "  <thead>\n",
       "    <tr style=\"text-align: right;\">\n",
       "      <th></th>\n",
       "      <th>fold_id</th>\n",
       "      <th>cv_tag</th>\n",
       "      <th>html_id</th>\n",
       "      <th>sent_id</th>\n",
       "      <th>text</th>\n",
       "      <th>tag</th>\n",
       "    </tr>\n",
       "  </thead>\n",
       "  <tbody>\n",
       "    <tr>\n",
       "      <th>0</th>\n",
       "      <td>0</td>\n",
       "      <td>cv000</td>\n",
       "      <td>29590</td>\n",
       "      <td>0</td>\n",
       "      <td>films adapted from comic books have had plenty...</td>\n",
       "      <td>pos</td>\n",
       "    </tr>\n",
       "    <tr>\n",
       "      <th>1</th>\n",
       "      <td>0</td>\n",
       "      <td>cv000</td>\n",
       "      <td>29590</td>\n",
       "      <td>1</td>\n",
       "      <td>for starters , it was created by alan moore ( ...</td>\n",
       "      <td>pos</td>\n",
       "    </tr>\n",
       "    <tr>\n",
       "      <th>2</th>\n",
       "      <td>0</td>\n",
       "      <td>cv000</td>\n",
       "      <td>29590</td>\n",
       "      <td>2</td>\n",
       "      <td>to say moore and campbell thoroughly researche...</td>\n",
       "      <td>pos</td>\n",
       "    </tr>\n",
       "    <tr>\n",
       "      <th>3</th>\n",
       "      <td>0</td>\n",
       "      <td>cv000</td>\n",
       "      <td>29590</td>\n",
       "      <td>3</td>\n",
       "      <td>the book ( or \" graphic novel , \" if you will ...</td>\n",
       "      <td>pos</td>\n",
       "    </tr>\n",
       "    <tr>\n",
       "      <th>4</th>\n",
       "      <td>0</td>\n",
       "      <td>cv000</td>\n",
       "      <td>29590</td>\n",
       "      <td>4</td>\n",
       "      <td>in other words , don't dismiss this film becau...</td>\n",
       "      <td>pos</td>\n",
       "    </tr>\n",
       "    <tr>\n",
       "      <th>...</th>\n",
       "      <td>...</td>\n",
       "      <td>...</td>\n",
       "      <td>...</td>\n",
       "      <td>...</td>\n",
       "      <td>...</td>\n",
       "      <td>...</td>\n",
       "    </tr>\n",
       "    <tr>\n",
       "      <th>64715</th>\n",
       "      <td>9</td>\n",
       "      <td>cv999</td>\n",
       "      <td>14636</td>\n",
       "      <td>20</td>\n",
       "      <td>that lack of inspiration can be traced back to...</td>\n",
       "      <td>neg</td>\n",
       "    </tr>\n",
       "    <tr>\n",
       "      <th>64716</th>\n",
       "      <td>9</td>\n",
       "      <td>cv999</td>\n",
       "      <td>14636</td>\n",
       "      <td>21</td>\n",
       "      <td>like too many of the skits on the current inca...</td>\n",
       "      <td>neg</td>\n",
       "    </tr>\n",
       "    <tr>\n",
       "      <th>64717</th>\n",
       "      <td>9</td>\n",
       "      <td>cv999</td>\n",
       "      <td>14636</td>\n",
       "      <td>22</td>\n",
       "      <td>after watching one of the \" roxbury \" skits on...</td>\n",
       "      <td>neg</td>\n",
       "    </tr>\n",
       "    <tr>\n",
       "      <th>64718</th>\n",
       "      <td>9</td>\n",
       "      <td>cv999</td>\n",
       "      <td>14636</td>\n",
       "      <td>23</td>\n",
       "      <td>bump unsuspecting women , and . . . that's all .</td>\n",
       "      <td>neg</td>\n",
       "    </tr>\n",
       "    <tr>\n",
       "      <th>64719</th>\n",
       "      <td>9</td>\n",
       "      <td>cv999</td>\n",
       "      <td>14636</td>\n",
       "      <td>24</td>\n",
       "      <td>after watching _a_night_at_the_roxbury_ , you'...</td>\n",
       "      <td>neg</td>\n",
       "    </tr>\n",
       "  </tbody>\n",
       "</table>\n",
       "<p>64720 rows × 6 columns</p>\n",
       "</div>"
      ],
      "text/plain": [
       "       fold_id cv_tag  html_id  sent_id  \\\n",
       "0            0  cv000    29590        0   \n",
       "1            0  cv000    29590        1   \n",
       "2            0  cv000    29590        2   \n",
       "3            0  cv000    29590        3   \n",
       "4            0  cv000    29590        4   \n",
       "...        ...    ...      ...      ...   \n",
       "64715        9  cv999    14636       20   \n",
       "64716        9  cv999    14636       21   \n",
       "64717        9  cv999    14636       22   \n",
       "64718        9  cv999    14636       23   \n",
       "64719        9  cv999    14636       24   \n",
       "\n",
       "                                                    text  tag  \n",
       "0      films adapted from comic books have had plenty...  pos  \n",
       "1      for starters , it was created by alan moore ( ...  pos  \n",
       "2      to say moore and campbell thoroughly researche...  pos  \n",
       "3      the book ( or \" graphic novel , \" if you will ...  pos  \n",
       "4      in other words , don't dismiss this film becau...  pos  \n",
       "...                                                  ...  ...  \n",
       "64715  that lack of inspiration can be traced back to...  neg  \n",
       "64716  like too many of the skits on the current inca...  neg  \n",
       "64717  after watching one of the \" roxbury \" skits on...  neg  \n",
       "64718   bump unsuspecting women , and . . . that's all .  neg  \n",
       "64719  after watching _a_night_at_the_roxbury_ , you'...  neg  \n",
       "\n",
       "[64720 rows x 6 columns]"
      ]
     },
     "execution_count": 22,
     "metadata": {},
     "output_type": "execute_result"
    }
   ],
   "source": [
    "#Printing out current format of the data\n",
    "movie_data "
   ]
  },
  {
   "cell_type": "code",
   "execution_count": 23,
   "id": "3c17e64a",
   "metadata": {},
   "outputs": [
    {
     "data": {
      "text/html": [
       "<div>\n",
       "<style scoped>\n",
       "    .dataframe tbody tr th:only-of-type {\n",
       "        vertical-align: middle;\n",
       "    }\n",
       "\n",
       "    .dataframe tbody tr th {\n",
       "        vertical-align: top;\n",
       "    }\n",
       "\n",
       "    .dataframe thead th {\n",
       "        text-align: right;\n",
       "    }\n",
       "</style>\n",
       "<table border=\"1\" class=\"dataframe\">\n",
       "  <thead>\n",
       "    <tr style=\"text-align: right;\">\n",
       "      <th></th>\n",
       "      <th>text</th>\n",
       "      <th>tag</th>\n",
       "    </tr>\n",
       "  </thead>\n",
       "  <tbody>\n",
       "    <tr>\n",
       "      <th>0</th>\n",
       "      <td>films adapted from comic books have had plenty...</td>\n",
       "      <td>pos</td>\n",
       "    </tr>\n",
       "    <tr>\n",
       "      <th>1</th>\n",
       "      <td>for starters , it was created by alan moore ( ...</td>\n",
       "      <td>pos</td>\n",
       "    </tr>\n",
       "    <tr>\n",
       "      <th>2</th>\n",
       "      <td>to say moore and campbell thoroughly researche...</td>\n",
       "      <td>pos</td>\n",
       "    </tr>\n",
       "    <tr>\n",
       "      <th>3</th>\n",
       "      <td>the book ( or \" graphic novel , \" if you will ...</td>\n",
       "      <td>pos</td>\n",
       "    </tr>\n",
       "    <tr>\n",
       "      <th>4</th>\n",
       "      <td>in other words , don't dismiss this film becau...</td>\n",
       "      <td>pos</td>\n",
       "    </tr>\n",
       "    <tr>\n",
       "      <th>...</th>\n",
       "      <td>...</td>\n",
       "      <td>...</td>\n",
       "    </tr>\n",
       "    <tr>\n",
       "      <th>64715</th>\n",
       "      <td>that lack of inspiration can be traced back to...</td>\n",
       "      <td>neg</td>\n",
       "    </tr>\n",
       "    <tr>\n",
       "      <th>64716</th>\n",
       "      <td>like too many of the skits on the current inca...</td>\n",
       "      <td>neg</td>\n",
       "    </tr>\n",
       "    <tr>\n",
       "      <th>64717</th>\n",
       "      <td>after watching one of the \" roxbury \" skits on...</td>\n",
       "      <td>neg</td>\n",
       "    </tr>\n",
       "    <tr>\n",
       "      <th>64718</th>\n",
       "      <td>bump unsuspecting women , and . . . that's all .</td>\n",
       "      <td>neg</td>\n",
       "    </tr>\n",
       "    <tr>\n",
       "      <th>64719</th>\n",
       "      <td>after watching _a_night_at_the_roxbury_ , you'...</td>\n",
       "      <td>neg</td>\n",
       "    </tr>\n",
       "  </tbody>\n",
       "</table>\n",
       "<p>64720 rows × 2 columns</p>\n",
       "</div>"
      ],
      "text/plain": [
       "                                                    text  tag\n",
       "0      films adapted from comic books have had plenty...  pos\n",
       "1      for starters , it was created by alan moore ( ...  pos\n",
       "2      to say moore and campbell thoroughly researche...  pos\n",
       "3      the book ( or \" graphic novel , \" if you will ...  pos\n",
       "4      in other words , don't dismiss this film becau...  pos\n",
       "...                                                  ...  ...\n",
       "64715  that lack of inspiration can be traced back to...  neg\n",
       "64716  like too many of the skits on the current inca...  neg\n",
       "64717  after watching one of the \" roxbury \" skits on...  neg\n",
       "64718   bump unsuspecting women , and . . . that's all .  neg\n",
       "64719  after watching _a_night_at_the_roxbury_ , you'...  neg\n",
       "\n",
       "[64720 rows x 2 columns]"
      ]
     },
     "execution_count": 23,
     "metadata": {},
     "output_type": "execute_result"
    }
   ],
   "source": [
    "#Dropping off columns that are not needed\n",
    "movie_data.drop(['fold_id', 'cv_tag', 'html_id', 'sent_id'], axis = 1) "
   ]
  },
  {
   "cell_type": "code",
   "execution_count": 24,
   "id": "5e86d564",
   "metadata": {},
   "outputs": [],
   "source": [
    "#Map numerical values to pos and neg\n",
    "mapping = {'pos': 1, 'neg': 0}\n",
    "\n",
    "#Switching the positive/negative to binary 1/0\n",
    "movie_data['tag'] = movie_data['tag'].map(mapping) \n"
   ]
  },
  {
   "cell_type": "code",
   "execution_count": 25,
   "id": "ff2f6c87",
   "metadata": {},
   "outputs": [
    {
     "data": {
      "text/html": [
       "<div>\n",
       "<style scoped>\n",
       "    .dataframe tbody tr th:only-of-type {\n",
       "        vertical-align: middle;\n",
       "    }\n",
       "\n",
       "    .dataframe tbody tr th {\n",
       "        vertical-align: top;\n",
       "    }\n",
       "\n",
       "    .dataframe thead th {\n",
       "        text-align: right;\n",
       "    }\n",
       "</style>\n",
       "<table border=\"1\" class=\"dataframe\">\n",
       "  <thead>\n",
       "    <tr style=\"text-align: right;\">\n",
       "      <th></th>\n",
       "      <th>fold_id</th>\n",
       "      <th>cv_tag</th>\n",
       "      <th>html_id</th>\n",
       "      <th>sent_id</th>\n",
       "      <th>text</th>\n",
       "      <th>tag</th>\n",
       "    </tr>\n",
       "  </thead>\n",
       "  <tbody>\n",
       "    <tr>\n",
       "      <th>0</th>\n",
       "      <td>0</td>\n",
       "      <td>cv000</td>\n",
       "      <td>29590</td>\n",
       "      <td>0</td>\n",
       "      <td>films adapted from comic books have had plenty...</td>\n",
       "      <td>1</td>\n",
       "    </tr>\n",
       "    <tr>\n",
       "      <th>1</th>\n",
       "      <td>0</td>\n",
       "      <td>cv000</td>\n",
       "      <td>29590</td>\n",
       "      <td>1</td>\n",
       "      <td>for starters , it was created by alan moore ( ...</td>\n",
       "      <td>1</td>\n",
       "    </tr>\n",
       "    <tr>\n",
       "      <th>2</th>\n",
       "      <td>0</td>\n",
       "      <td>cv000</td>\n",
       "      <td>29590</td>\n",
       "      <td>2</td>\n",
       "      <td>to say moore and campbell thoroughly researche...</td>\n",
       "      <td>1</td>\n",
       "    </tr>\n",
       "    <tr>\n",
       "      <th>3</th>\n",
       "      <td>0</td>\n",
       "      <td>cv000</td>\n",
       "      <td>29590</td>\n",
       "      <td>3</td>\n",
       "      <td>the book ( or \" graphic novel , \" if you will ...</td>\n",
       "      <td>1</td>\n",
       "    </tr>\n",
       "    <tr>\n",
       "      <th>4</th>\n",
       "      <td>0</td>\n",
       "      <td>cv000</td>\n",
       "      <td>29590</td>\n",
       "      <td>4</td>\n",
       "      <td>in other words , don't dismiss this film becau...</td>\n",
       "      <td>1</td>\n",
       "    </tr>\n",
       "    <tr>\n",
       "      <th>...</th>\n",
       "      <td>...</td>\n",
       "      <td>...</td>\n",
       "      <td>...</td>\n",
       "      <td>...</td>\n",
       "      <td>...</td>\n",
       "      <td>...</td>\n",
       "    </tr>\n",
       "    <tr>\n",
       "      <th>64715</th>\n",
       "      <td>9</td>\n",
       "      <td>cv999</td>\n",
       "      <td>14636</td>\n",
       "      <td>20</td>\n",
       "      <td>that lack of inspiration can be traced back to...</td>\n",
       "      <td>0</td>\n",
       "    </tr>\n",
       "    <tr>\n",
       "      <th>64716</th>\n",
       "      <td>9</td>\n",
       "      <td>cv999</td>\n",
       "      <td>14636</td>\n",
       "      <td>21</td>\n",
       "      <td>like too many of the skits on the current inca...</td>\n",
       "      <td>0</td>\n",
       "    </tr>\n",
       "    <tr>\n",
       "      <th>64717</th>\n",
       "      <td>9</td>\n",
       "      <td>cv999</td>\n",
       "      <td>14636</td>\n",
       "      <td>22</td>\n",
       "      <td>after watching one of the \" roxbury \" skits on...</td>\n",
       "      <td>0</td>\n",
       "    </tr>\n",
       "    <tr>\n",
       "      <th>64718</th>\n",
       "      <td>9</td>\n",
       "      <td>cv999</td>\n",
       "      <td>14636</td>\n",
       "      <td>23</td>\n",
       "      <td>bump unsuspecting women , and . . . that's all .</td>\n",
       "      <td>0</td>\n",
       "    </tr>\n",
       "    <tr>\n",
       "      <th>64719</th>\n",
       "      <td>9</td>\n",
       "      <td>cv999</td>\n",
       "      <td>14636</td>\n",
       "      <td>24</td>\n",
       "      <td>after watching _a_night_at_the_roxbury_ , you'...</td>\n",
       "      <td>0</td>\n",
       "    </tr>\n",
       "  </tbody>\n",
       "</table>\n",
       "<p>64720 rows × 6 columns</p>\n",
       "</div>"
      ],
      "text/plain": [
       "       fold_id cv_tag  html_id  sent_id  \\\n",
       "0            0  cv000    29590        0   \n",
       "1            0  cv000    29590        1   \n",
       "2            0  cv000    29590        2   \n",
       "3            0  cv000    29590        3   \n",
       "4            0  cv000    29590        4   \n",
       "...        ...    ...      ...      ...   \n",
       "64715        9  cv999    14636       20   \n",
       "64716        9  cv999    14636       21   \n",
       "64717        9  cv999    14636       22   \n",
       "64718        9  cv999    14636       23   \n",
       "64719        9  cv999    14636       24   \n",
       "\n",
       "                                                    text  tag  \n",
       "0      films adapted from comic books have had plenty...    1  \n",
       "1      for starters , it was created by alan moore ( ...    1  \n",
       "2      to say moore and campbell thoroughly researche...    1  \n",
       "3      the book ( or \" graphic novel , \" if you will ...    1  \n",
       "4      in other words , don't dismiss this film becau...    1  \n",
       "...                                                  ...  ...  \n",
       "64715  that lack of inspiration can be traced back to...    0  \n",
       "64716  like too many of the skits on the current inca...    0  \n",
       "64717  after watching one of the \" roxbury \" skits on...    0  \n",
       "64718   bump unsuspecting women , and . . . that's all .    0  \n",
       "64719  after watching _a_night_at_the_roxbury_ , you'...    0  \n",
       "\n",
       "[64720 rows x 6 columns]"
      ]
     },
     "execution_count": 25,
     "metadata": {},
     "output_type": "execute_result"
    }
   ],
   "source": [
    "#displaying dataframe to confirm \n",
    "movie_data "
   ]
  },
  {
   "cell_type": "code",
   "execution_count": 26,
   "id": "52ba31c7",
   "metadata": {},
   "outputs": [
    {
     "data": {
      "text/html": [
       "<div>\n",
       "<style scoped>\n",
       "    .dataframe tbody tr th:only-of-type {\n",
       "        vertical-align: middle;\n",
       "    }\n",
       "\n",
       "    .dataframe tbody tr th {\n",
       "        vertical-align: top;\n",
       "    }\n",
       "\n",
       "    .dataframe thead th {\n",
       "        text-align: right;\n",
       "    }\n",
       "</style>\n",
       "<table border=\"1\" class=\"dataframe\">\n",
       "  <thead>\n",
       "    <tr style=\"text-align: right;\">\n",
       "      <th></th>\n",
       "      <th>text</th>\n",
       "      <th>tag</th>\n",
       "    </tr>\n",
       "  </thead>\n",
       "  <tbody>\n",
       "    <tr>\n",
       "      <th>0</th>\n",
       "      <td>films adapted from comic books have had plenty...</td>\n",
       "      <td>1</td>\n",
       "    </tr>\n",
       "    <tr>\n",
       "      <th>1</th>\n",
       "      <td>for starters , it was created by alan moore ( ...</td>\n",
       "      <td>1</td>\n",
       "    </tr>\n",
       "    <tr>\n",
       "      <th>2</th>\n",
       "      <td>to say moore and campbell thoroughly researche...</td>\n",
       "      <td>1</td>\n",
       "    </tr>\n",
       "    <tr>\n",
       "      <th>3</th>\n",
       "      <td>the book ( or \" graphic novel , \" if you will ...</td>\n",
       "      <td>1</td>\n",
       "    </tr>\n",
       "    <tr>\n",
       "      <th>4</th>\n",
       "      <td>in other words , don't dismiss this film becau...</td>\n",
       "      <td>1</td>\n",
       "    </tr>\n",
       "    <tr>\n",
       "      <th>...</th>\n",
       "      <td>...</td>\n",
       "      <td>...</td>\n",
       "    </tr>\n",
       "    <tr>\n",
       "      <th>64715</th>\n",
       "      <td>that lack of inspiration can be traced back to...</td>\n",
       "      <td>0</td>\n",
       "    </tr>\n",
       "    <tr>\n",
       "      <th>64716</th>\n",
       "      <td>like too many of the skits on the current inca...</td>\n",
       "      <td>0</td>\n",
       "    </tr>\n",
       "    <tr>\n",
       "      <th>64717</th>\n",
       "      <td>after watching one of the \" roxbury \" skits on...</td>\n",
       "      <td>0</td>\n",
       "    </tr>\n",
       "    <tr>\n",
       "      <th>64718</th>\n",
       "      <td>bump unsuspecting women , and . . . that's all .</td>\n",
       "      <td>0</td>\n",
       "    </tr>\n",
       "    <tr>\n",
       "      <th>64719</th>\n",
       "      <td>after watching _a_night_at_the_roxbury_ , you'...</td>\n",
       "      <td>0</td>\n",
       "    </tr>\n",
       "  </tbody>\n",
       "</table>\n",
       "<p>64720 rows × 2 columns</p>\n",
       "</div>"
      ],
      "text/plain": [
       "                                                    text  tag\n",
       "0      films adapted from comic books have had plenty...    1\n",
       "1      for starters , it was created by alan moore ( ...    1\n",
       "2      to say moore and campbell thoroughly researche...    1\n",
       "3      the book ( or \" graphic novel , \" if you will ...    1\n",
       "4      in other words , don't dismiss this film becau...    1\n",
       "...                                                  ...  ...\n",
       "64715  that lack of inspiration can be traced back to...    0\n",
       "64716  like too many of the skits on the current inca...    0\n",
       "64717  after watching one of the \" roxbury \" skits on...    0\n",
       "64718   bump unsuspecting women , and . . . that's all .    0\n",
       "64719  after watching _a_night_at_the_roxbury_ , you'...    0\n",
       "\n",
       "[64720 rows x 2 columns]"
      ]
     },
     "execution_count": 26,
     "metadata": {},
     "output_type": "execute_result"
    }
   ],
   "source": [
    "#Dropping off columns that are not needed\n",
    "movie_data.drop(['fold_id', 'cv_tag', 'html_id', 'sent_id'], axis = 1) "
   ]
  },
  {
   "cell_type": "code",
   "execution_count": 27,
   "id": "b82c957c",
   "metadata": {},
   "outputs": [],
   "source": [
    "# Remove punctuation and make lowercase function\n",
    "def remove_punc_and_lower(text):\n",
    "    text = text.lower()\n",
    "    return text.translate(str.maketrans('', '', string.punctuation))\n",
    "\n",
    "#Removing punctuation\n",
    "movie_data['text'] = [remove_punc_and_lower(text) for text in movie_data['text']]"
   ]
  },
  {
   "cell_type": "code",
   "execution_count": 28,
   "id": "d0ac18ac",
   "metadata": {},
   "outputs": [],
   "source": [
    "#Removing extra spaces function\n",
    "def remove_extra_spaces(strings):\n",
    "    clean_string = [ ' '.join(string.split()) for string in strings ]\n",
    "    return clean_string\n",
    "\n",
    "#Removing extra spaces\n",
    "movie_data['text'] = remove_extra_spaces(movie_data['text'])"
   ]
  },
  {
   "cell_type": "code",
   "execution_count": 29,
   "id": "52eb3846",
   "metadata": {},
   "outputs": [
    {
     "data": {
      "text/html": [
       "<div>\n",
       "<style scoped>\n",
       "    .dataframe tbody tr th:only-of-type {\n",
       "        vertical-align: middle;\n",
       "    }\n",
       "\n",
       "    .dataframe tbody tr th {\n",
       "        vertical-align: top;\n",
       "    }\n",
       "\n",
       "    .dataframe thead th {\n",
       "        text-align: right;\n",
       "    }\n",
       "</style>\n",
       "<table border=\"1\" class=\"dataframe\">\n",
       "  <thead>\n",
       "    <tr style=\"text-align: right;\">\n",
       "      <th></th>\n",
       "      <th>text</th>\n",
       "      <th>tag</th>\n",
       "    </tr>\n",
       "  </thead>\n",
       "  <tbody>\n",
       "    <tr>\n",
       "      <th>0</th>\n",
       "      <td>films adapted from comic books have had plenty...</td>\n",
       "      <td>1</td>\n",
       "    </tr>\n",
       "    <tr>\n",
       "      <th>1</th>\n",
       "      <td>for starters it was created by alan moore and ...</td>\n",
       "      <td>1</td>\n",
       "    </tr>\n",
       "    <tr>\n",
       "      <th>2</th>\n",
       "      <td>to say moore and campbell thoroughly researche...</td>\n",
       "      <td>1</td>\n",
       "    </tr>\n",
       "    <tr>\n",
       "      <th>3</th>\n",
       "      <td>the book or graphic novel if you will is over ...</td>\n",
       "      <td>1</td>\n",
       "    </tr>\n",
       "    <tr>\n",
       "      <th>4</th>\n",
       "      <td>in other words dont dismiss this film because ...</td>\n",
       "      <td>1</td>\n",
       "    </tr>\n",
       "    <tr>\n",
       "      <th>...</th>\n",
       "      <td>...</td>\n",
       "      <td>...</td>\n",
       "    </tr>\n",
       "    <tr>\n",
       "      <th>64715</th>\n",
       "      <td>that lack of inspiration can be traced back to...</td>\n",
       "      <td>0</td>\n",
       "    </tr>\n",
       "    <tr>\n",
       "      <th>64716</th>\n",
       "      <td>like too many of the skits on the current inca...</td>\n",
       "      <td>0</td>\n",
       "    </tr>\n",
       "    <tr>\n",
       "      <th>64717</th>\n",
       "      <td>after watching one of the roxbury skits on snl...</td>\n",
       "      <td>0</td>\n",
       "    </tr>\n",
       "    <tr>\n",
       "      <th>64718</th>\n",
       "      <td>bump unsuspecting women and thats all</td>\n",
       "      <td>0</td>\n",
       "    </tr>\n",
       "    <tr>\n",
       "      <th>64719</th>\n",
       "      <td>after watching anightattheroxbury youll be lef...</td>\n",
       "      <td>0</td>\n",
       "    </tr>\n",
       "  </tbody>\n",
       "</table>\n",
       "<p>64720 rows × 2 columns</p>\n",
       "</div>"
      ],
      "text/plain": [
       "                                                    text  tag\n",
       "0      films adapted from comic books have had plenty...    1\n",
       "1      for starters it was created by alan moore and ...    1\n",
       "2      to say moore and campbell thoroughly researche...    1\n",
       "3      the book or graphic novel if you will is over ...    1\n",
       "4      in other words dont dismiss this film because ...    1\n",
       "...                                                  ...  ...\n",
       "64715  that lack of inspiration can be traced back to...    0\n",
       "64716  like too many of the skits on the current inca...    0\n",
       "64717  after watching one of the roxbury skits on snl...    0\n",
       "64718              bump unsuspecting women and thats all    0\n",
       "64719  after watching anightattheroxbury youll be lef...    0\n",
       "\n",
       "[64720 rows x 2 columns]"
      ]
     },
     "execution_count": 29,
     "metadata": {},
     "output_type": "execute_result"
    }
   ],
   "source": [
    "#Displaying movie_data to see if punctuation has been removed\n",
    "movie_data.drop(['fold_id', 'cv_tag', 'html_id', 'sent_id'], axis = 1)"
   ]
  },
  {
   "cell_type": "markdown",
   "id": "ce3a2e4e",
   "metadata": {},
   "source": [
    "## Load in Restaurant Review Dataset"
   ]
  },
  {
   "cell_type": "code",
   "execution_count": 30,
   "id": "3cce890f",
   "metadata": {},
   "outputs": [],
   "source": [
    "#Loading in data into dataframe\n",
    "restaurant_data = pd.read_table('./restaurant_reviews.txt', delimiter='\\t') "
   ]
  },
  {
   "cell_type": "code",
   "execution_count": 31,
   "id": "74058802",
   "metadata": {},
   "outputs": [
    {
     "data": {
      "text/html": [
       "<div>\n",
       "<style scoped>\n",
       "    .dataframe tbody tr th:only-of-type {\n",
       "        vertical-align: middle;\n",
       "    }\n",
       "\n",
       "    .dataframe tbody tr th {\n",
       "        vertical-align: top;\n",
       "    }\n",
       "\n",
       "    .dataframe thead th {\n",
       "        text-align: right;\n",
       "    }\n",
       "</style>\n",
       "<table border=\"1\" class=\"dataframe\">\n",
       "  <thead>\n",
       "    <tr style=\"text-align: right;\">\n",
       "      <th></th>\n",
       "      <th>Review</th>\n",
       "      <th>Liked</th>\n",
       "    </tr>\n",
       "  </thead>\n",
       "  <tbody>\n",
       "    <tr>\n",
       "      <th>0</th>\n",
       "      <td>Wow... Loved this place.</td>\n",
       "      <td>1\\</td>\n",
       "    </tr>\n",
       "    <tr>\n",
       "      <th>1</th>\n",
       "      <td>Crust is not good.</td>\n",
       "      <td>0\\</td>\n",
       "    </tr>\n",
       "    <tr>\n",
       "      <th>2</th>\n",
       "      <td>Not tasty and the texture was just nasty.</td>\n",
       "      <td>0\\</td>\n",
       "    </tr>\n",
       "    <tr>\n",
       "      <th>3</th>\n",
       "      <td>Stopped by during the late May bank holiday of...</td>\n",
       "      <td>1\\</td>\n",
       "    </tr>\n",
       "    <tr>\n",
       "      <th>4</th>\n",
       "      <td>The selection on the menu was great and so wer...</td>\n",
       "      <td>1\\</td>\n",
       "    </tr>\n",
       "    <tr>\n",
       "      <th>...</th>\n",
       "      <td>...</td>\n",
       "      <td>...</td>\n",
       "    </tr>\n",
       "    <tr>\n",
       "      <th>995</th>\n",
       "      <td>I think food should have flavor and texture an...</td>\n",
       "      <td>0\\</td>\n",
       "    </tr>\n",
       "    <tr>\n",
       "      <th>996</th>\n",
       "      <td>Appetite instantly gone.</td>\n",
       "      <td>0\\</td>\n",
       "    </tr>\n",
       "    <tr>\n",
       "      <th>997</th>\n",
       "      <td>Overall I was not impressed and would not go b...</td>\n",
       "      <td>0\\</td>\n",
       "    </tr>\n",
       "    <tr>\n",
       "      <th>998</th>\n",
       "      <td>The whole experience was underwhelming, and I ...</td>\n",
       "      <td>0\\</td>\n",
       "    </tr>\n",
       "    <tr>\n",
       "      <th>999</th>\n",
       "      <td>Then, as if I hadn't wasted enough of my life ...</td>\n",
       "      <td>0}</td>\n",
       "    </tr>\n",
       "  </tbody>\n",
       "</table>\n",
       "<p>1000 rows × 2 columns</p>\n",
       "</div>"
      ],
      "text/plain": [
       "                                                Review Liked\n",
       "0                             Wow... Loved this place.    1\\\n",
       "1                                   Crust is not good.    0\\\n",
       "2            Not tasty and the texture was just nasty.    0\\\n",
       "3    Stopped by during the late May bank holiday of...    1\\\n",
       "4    The selection on the menu was great and so wer...    1\\\n",
       "..                                                 ...   ...\n",
       "995  I think food should have flavor and texture an...    0\\\n",
       "996                           Appetite instantly gone.    0\\\n",
       "997  Overall I was not impressed and would not go b...    0\\\n",
       "998  The whole experience was underwhelming, and I ...    0\\\n",
       "999  Then, as if I hadn't wasted enough of my life ...    0}\n",
       "\n",
       "[1000 rows x 2 columns]"
      ]
     },
     "execution_count": 31,
     "metadata": {},
     "output_type": "execute_result"
    }
   ],
   "source": [
    "#Looking at loaded inn Data\n",
    "restaurant_data"
   ]
  },
  {
   "cell_type": "code",
   "execution_count": 32,
   "id": "2d2b22f0",
   "metadata": {},
   "outputs": [],
   "source": [
    "#remove non-numeric characters from liked to keep 1 and 0. Keeping integers as movie labels are int\n",
    "restaurant_data['Liked'] = restaurant_data['Liked'].str.strip().str.replace(r'\\D', '', regex=True).astype(int)"
   ]
  },
  {
   "cell_type": "code",
   "execution_count": 33,
   "id": "abb67d07",
   "metadata": {},
   "outputs": [
    {
     "data": {
      "text/html": [
       "<div>\n",
       "<style scoped>\n",
       "    .dataframe tbody tr th:only-of-type {\n",
       "        vertical-align: middle;\n",
       "    }\n",
       "\n",
       "    .dataframe tbody tr th {\n",
       "        vertical-align: top;\n",
       "    }\n",
       "\n",
       "    .dataframe thead th {\n",
       "        text-align: right;\n",
       "    }\n",
       "</style>\n",
       "<table border=\"1\" class=\"dataframe\">\n",
       "  <thead>\n",
       "    <tr style=\"text-align: right;\">\n",
       "      <th></th>\n",
       "      <th>Review</th>\n",
       "      <th>Liked</th>\n",
       "    </tr>\n",
       "  </thead>\n",
       "  <tbody>\n",
       "    <tr>\n",
       "      <th>0</th>\n",
       "      <td>Wow... Loved this place.</td>\n",
       "      <td>1</td>\n",
       "    </tr>\n",
       "    <tr>\n",
       "      <th>1</th>\n",
       "      <td>Crust is not good.</td>\n",
       "      <td>0</td>\n",
       "    </tr>\n",
       "    <tr>\n",
       "      <th>2</th>\n",
       "      <td>Not tasty and the texture was just nasty.</td>\n",
       "      <td>0</td>\n",
       "    </tr>\n",
       "    <tr>\n",
       "      <th>3</th>\n",
       "      <td>Stopped by during the late May bank holiday of...</td>\n",
       "      <td>1</td>\n",
       "    </tr>\n",
       "    <tr>\n",
       "      <th>4</th>\n",
       "      <td>The selection on the menu was great and so wer...</td>\n",
       "      <td>1</td>\n",
       "    </tr>\n",
       "    <tr>\n",
       "      <th>...</th>\n",
       "      <td>...</td>\n",
       "      <td>...</td>\n",
       "    </tr>\n",
       "    <tr>\n",
       "      <th>995</th>\n",
       "      <td>I think food should have flavor and texture an...</td>\n",
       "      <td>0</td>\n",
       "    </tr>\n",
       "    <tr>\n",
       "      <th>996</th>\n",
       "      <td>Appetite instantly gone.</td>\n",
       "      <td>0</td>\n",
       "    </tr>\n",
       "    <tr>\n",
       "      <th>997</th>\n",
       "      <td>Overall I was not impressed and would not go b...</td>\n",
       "      <td>0</td>\n",
       "    </tr>\n",
       "    <tr>\n",
       "      <th>998</th>\n",
       "      <td>The whole experience was underwhelming, and I ...</td>\n",
       "      <td>0</td>\n",
       "    </tr>\n",
       "    <tr>\n",
       "      <th>999</th>\n",
       "      <td>Then, as if I hadn't wasted enough of my life ...</td>\n",
       "      <td>0</td>\n",
       "    </tr>\n",
       "  </tbody>\n",
       "</table>\n",
       "<p>1000 rows × 2 columns</p>\n",
       "</div>"
      ],
      "text/plain": [
       "                                                Review  Liked\n",
       "0                             Wow... Loved this place.      1\n",
       "1                                   Crust is not good.      0\n",
       "2            Not tasty and the texture was just nasty.      0\n",
       "3    Stopped by during the late May bank holiday of...      1\n",
       "4    The selection on the menu was great and so wer...      1\n",
       "..                                                 ...    ...\n",
       "995  I think food should have flavor and texture an...      0\n",
       "996                           Appetite instantly gone.      0\n",
       "997  Overall I was not impressed and would not go b...      0\n",
       "998  The whole experience was underwhelming, and I ...      0\n",
       "999  Then, as if I hadn't wasted enough of my life ...      0\n",
       "\n",
       "[1000 rows x 2 columns]"
      ]
     },
     "execution_count": 33,
     "metadata": {},
     "output_type": "execute_result"
    }
   ],
   "source": [
    "restaurant_data"
   ]
  },
  {
   "cell_type": "code",
   "execution_count": 34,
   "id": "0500da6e",
   "metadata": {},
   "outputs": [],
   "source": [
    "#Removing punctuation\n",
    "restaurant_data['Review'] = [remove_punc_and_lower(text) for text in restaurant_data['Review']]"
   ]
  },
  {
   "cell_type": "code",
   "execution_count": 35,
   "id": "4b39e2c0",
   "metadata": {},
   "outputs": [],
   "source": [
    "#Removing extra spaces\n",
    "restaurant_data['Review'] = remove_extra_spaces(restaurant_data['Review'])"
   ]
  },
  {
   "cell_type": "code",
   "execution_count": 36,
   "id": "73f8fe8a",
   "metadata": {},
   "outputs": [
    {
     "data": {
      "text/html": [
       "<div>\n",
       "<style scoped>\n",
       "    .dataframe tbody tr th:only-of-type {\n",
       "        vertical-align: middle;\n",
       "    }\n",
       "\n",
       "    .dataframe tbody tr th {\n",
       "        vertical-align: top;\n",
       "    }\n",
       "\n",
       "    .dataframe thead th {\n",
       "        text-align: right;\n",
       "    }\n",
       "</style>\n",
       "<table border=\"1\" class=\"dataframe\">\n",
       "  <thead>\n",
       "    <tr style=\"text-align: right;\">\n",
       "      <th></th>\n",
       "      <th>Review</th>\n",
       "      <th>Liked</th>\n",
       "    </tr>\n",
       "  </thead>\n",
       "  <tbody>\n",
       "    <tr>\n",
       "      <th>0</th>\n",
       "      <td>wow loved this place</td>\n",
       "      <td>1</td>\n",
       "    </tr>\n",
       "    <tr>\n",
       "      <th>1</th>\n",
       "      <td>crust is not good</td>\n",
       "      <td>0</td>\n",
       "    </tr>\n",
       "    <tr>\n",
       "      <th>2</th>\n",
       "      <td>not tasty and the texture was just nasty</td>\n",
       "      <td>0</td>\n",
       "    </tr>\n",
       "    <tr>\n",
       "      <th>3</th>\n",
       "      <td>stopped by during the late may bank holiday of...</td>\n",
       "      <td>1</td>\n",
       "    </tr>\n",
       "    <tr>\n",
       "      <th>4</th>\n",
       "      <td>the selection on the menu was great and so wer...</td>\n",
       "      <td>1</td>\n",
       "    </tr>\n",
       "    <tr>\n",
       "      <th>...</th>\n",
       "      <td>...</td>\n",
       "      <td>...</td>\n",
       "    </tr>\n",
       "    <tr>\n",
       "      <th>995</th>\n",
       "      <td>i think food should have flavor and texture an...</td>\n",
       "      <td>0</td>\n",
       "    </tr>\n",
       "    <tr>\n",
       "      <th>996</th>\n",
       "      <td>appetite instantly gone</td>\n",
       "      <td>0</td>\n",
       "    </tr>\n",
       "    <tr>\n",
       "      <th>997</th>\n",
       "      <td>overall i was not impressed and would not go back</td>\n",
       "      <td>0</td>\n",
       "    </tr>\n",
       "    <tr>\n",
       "      <th>998</th>\n",
       "      <td>the whole experience was underwhelming and i t...</td>\n",
       "      <td>0</td>\n",
       "    </tr>\n",
       "    <tr>\n",
       "      <th>999</th>\n",
       "      <td>then as if i hadnt wasted enough of my life th...</td>\n",
       "      <td>0</td>\n",
       "    </tr>\n",
       "  </tbody>\n",
       "</table>\n",
       "<p>1000 rows × 2 columns</p>\n",
       "</div>"
      ],
      "text/plain": [
       "                                                Review  Liked\n",
       "0                                 wow loved this place      1\n",
       "1                                    crust is not good      0\n",
       "2             not tasty and the texture was just nasty      0\n",
       "3    stopped by during the late may bank holiday of...      1\n",
       "4    the selection on the menu was great and so wer...      1\n",
       "..                                                 ...    ...\n",
       "995  i think food should have flavor and texture an...      0\n",
       "996                            appetite instantly gone      0\n",
       "997  overall i was not impressed and would not go back      0\n",
       "998  the whole experience was underwhelming and i t...      0\n",
       "999  then as if i hadnt wasted enough of my life th...      0\n",
       "\n",
       "[1000 rows x 2 columns]"
      ]
     },
     "execution_count": 36,
     "metadata": {},
     "output_type": "execute_result"
    }
   ],
   "source": [
    "#Displaying restaurant_data to see if punctuation has been removed\n",
    "restaurant_data"
   ]
  },
  {
   "cell_type": "markdown",
   "id": "7e0853c8",
   "metadata": {},
   "source": [
    "## Logistic Regression With Word2Vec"
   ]
  },
  {
   "cell_type": "code",
   "execution_count": 37,
   "id": "a5dad1dd",
   "metadata": {},
   "outputs": [],
   "source": [
    "#Load pre-trained word2vec embeddings\n",
    "word2vec_model = KeyedVectors.load(\"Pretrained_Word2Vec_Model.model\")\n"
   ]
  },
  {
   "cell_type": "code",
   "execution_count": 38,
   "id": "86d8eda9",
   "metadata": {},
   "outputs": [],
   "source": [
    "#Getting text from movie review data\n",
    "texts = movie_data['text']\n",
    "\n",
    "# 1 for positive, 0 for negative sentiment\n",
    "labels = movie_data['tag'] "
   ]
  },
  {
   "cell_type": "code",
   "execution_count": 39,
   "id": "167d91d0",
   "metadata": {},
   "outputs": [],
   "source": [
    "# Split the dataset keeping 30% for testing\n",
    "X_train, X_test, y_train, y_test = train_test_split(texts, labels, test_size=0.3, random_state=42)"
   ]
  },
  {
   "cell_type": "code",
   "execution_count": 40,
   "id": "399ba544",
   "metadata": {},
   "outputs": [
    {
     "name": "stdout",
     "output_type": "stream",
     "text": [
      "KeyedVectors<vector_size=300, 3000000 keys>\n"
     ]
    }
   ],
   "source": [
    "print(word2vec_model)"
   ]
  },
  {
   "cell_type": "code",
   "execution_count": 41,
   "id": "59a30b0a",
   "metadata": {},
   "outputs": [],
   "source": [
    "# Convert texts to average word2vec embeddings as logistic regression requires numerical input\n",
    "def text_to_avg_word2vec(text):\n",
    "    words = text.split() #Seperates sentences into words\n",
    "    \n",
    "    #Filters out words not present in the embedding to improve accuracy\n",
    "    embeddings = [word2vec_model[word] for word in words if word in word2vec_model]\n",
    "    if embeddings: #Checks to see if any words in the reviews exists in the Word2Vec model\n",
    "        \n",
    "        #If the embedding contains the word in the sentence, the word will be given the average vector from the embedding\n",
    "        return np.mean(embeddings, axis=0)#Averageing vectors to a fixed size vector for logistic regression\n",
    "    else:\n",
    "        return np.zeros(word2vec_model.vector_size) #Vectors of zeros for word not in embedding\n",
    "\n"
   ]
  },
  {
   "cell_type": "code",
   "execution_count": 42,
   "id": "867a12a6",
   "metadata": {},
   "outputs": [],
   "source": [
    "#X_train contains training reviews with average vector from the embedding\n",
    "X_train_vec = [text_to_avg_word2vec(text) for text in X_train]\n",
    "\n",
    "#X_test contains training reviews with average vector from embedding\n",
    "X_test_vec = [text_to_avg_word2vec(text) for text in X_test]"
   ]
  },
  {
   "cell_type": "code",
   "execution_count": 43,
   "id": "ac6d683c",
   "metadata": {},
   "outputs": [
    {
     "data": {
      "text/html": [
       "<style>#sk-container-id-1 {color: black;}#sk-container-id-1 pre{padding: 0;}#sk-container-id-1 div.sk-toggleable {background-color: white;}#sk-container-id-1 label.sk-toggleable__label {cursor: pointer;display: block;width: 100%;margin-bottom: 0;padding: 0.3em;box-sizing: border-box;text-align: center;}#sk-container-id-1 label.sk-toggleable__label-arrow:before {content: \"▸\";float: left;margin-right: 0.25em;color: #696969;}#sk-container-id-1 label.sk-toggleable__label-arrow:hover:before {color: black;}#sk-container-id-1 div.sk-estimator:hover label.sk-toggleable__label-arrow:before {color: black;}#sk-container-id-1 div.sk-toggleable__content {max-height: 0;max-width: 0;overflow: hidden;text-align: left;background-color: #f0f8ff;}#sk-container-id-1 div.sk-toggleable__content pre {margin: 0.2em;color: black;border-radius: 0.25em;background-color: #f0f8ff;}#sk-container-id-1 input.sk-toggleable__control:checked~div.sk-toggleable__content {max-height: 200px;max-width: 100%;overflow: auto;}#sk-container-id-1 input.sk-toggleable__control:checked~label.sk-toggleable__label-arrow:before {content: \"▾\";}#sk-container-id-1 div.sk-estimator input.sk-toggleable__control:checked~label.sk-toggleable__label {background-color: #d4ebff;}#sk-container-id-1 div.sk-label input.sk-toggleable__control:checked~label.sk-toggleable__label {background-color: #d4ebff;}#sk-container-id-1 input.sk-hidden--visually {border: 0;clip: rect(1px 1px 1px 1px);clip: rect(1px, 1px, 1px, 1px);height: 1px;margin: -1px;overflow: hidden;padding: 0;position: absolute;width: 1px;}#sk-container-id-1 div.sk-estimator {font-family: monospace;background-color: #f0f8ff;border: 1px dotted black;border-radius: 0.25em;box-sizing: border-box;margin-bottom: 0.5em;}#sk-container-id-1 div.sk-estimator:hover {background-color: #d4ebff;}#sk-container-id-1 div.sk-parallel-item::after {content: \"\";width: 100%;border-bottom: 1px solid gray;flex-grow: 1;}#sk-container-id-1 div.sk-label:hover label.sk-toggleable__label {background-color: #d4ebff;}#sk-container-id-1 div.sk-serial::before {content: \"\";position: absolute;border-left: 1px solid gray;box-sizing: border-box;top: 0;bottom: 0;left: 50%;z-index: 0;}#sk-container-id-1 div.sk-serial {display: flex;flex-direction: column;align-items: center;background-color: white;padding-right: 0.2em;padding-left: 0.2em;position: relative;}#sk-container-id-1 div.sk-item {position: relative;z-index: 1;}#sk-container-id-1 div.sk-parallel {display: flex;align-items: stretch;justify-content: center;background-color: white;position: relative;}#sk-container-id-1 div.sk-item::before, #sk-container-id-1 div.sk-parallel-item::before {content: \"\";position: absolute;border-left: 1px solid gray;box-sizing: border-box;top: 0;bottom: 0;left: 50%;z-index: -1;}#sk-container-id-1 div.sk-parallel-item {display: flex;flex-direction: column;z-index: 1;position: relative;background-color: white;}#sk-container-id-1 div.sk-parallel-item:first-child::after {align-self: flex-end;width: 50%;}#sk-container-id-1 div.sk-parallel-item:last-child::after {align-self: flex-start;width: 50%;}#sk-container-id-1 div.sk-parallel-item:only-child::after {width: 0;}#sk-container-id-1 div.sk-dashed-wrapped {border: 1px dashed gray;margin: 0 0.4em 0.5em 0.4em;box-sizing: border-box;padding-bottom: 0.4em;background-color: white;}#sk-container-id-1 div.sk-label label {font-family: monospace;font-weight: bold;display: inline-block;line-height: 1.2em;}#sk-container-id-1 div.sk-label-container {text-align: center;}#sk-container-id-1 div.sk-container {/* jupyter's `normalize.less` sets `[hidden] { display: none; }` but bootstrap.min.css set `[hidden] { display: none !important; }` so we also need the `!important` here to be able to override the default hidden behavior on the sphinx rendered scikit-learn.org. See: https://github.com/scikit-learn/scikit-learn/issues/21755 */display: inline-block !important;position: relative;}#sk-container-id-1 div.sk-text-repr-fallback {display: none;}</style><div id=\"sk-container-id-1\" class=\"sk-top-container\"><div class=\"sk-text-repr-fallback\"><pre>LogisticRegression(max_iter=1000)</pre><b>In a Jupyter environment, please rerun this cell to show the HTML representation or trust the notebook. <br />On GitHub, the HTML representation is unable to render, please try loading this page with nbviewer.org.</b></div><div class=\"sk-container\" hidden><div class=\"sk-item\"><div class=\"sk-estimator sk-toggleable\"><input class=\"sk-toggleable__control sk-hidden--visually\" id=\"sk-estimator-id-1\" type=\"checkbox\" checked><label for=\"sk-estimator-id-1\" class=\"sk-toggleable__label sk-toggleable__label-arrow\">LogisticRegression</label><div class=\"sk-toggleable__content\"><pre>LogisticRegression(max_iter=1000)</pre></div></div></div></div></div>"
      ],
      "text/plain": [
       "LogisticRegression(max_iter=1000)"
      ]
     },
     "execution_count": 43,
     "metadata": {},
     "output_type": "execute_result"
    }
   ],
   "source": [
    "#Set up Logistic regression model\n",
    "classifier = LogisticRegression(max_iter=1000)\n",
    "\n",
    "#Train logistic regression model on training vector and Y_train\n",
    "classifier.fit(X_train_vec, y_train)"
   ]
  },
  {
   "cell_type": "code",
   "execution_count": 44,
   "id": "8f9819f3",
   "metadata": {},
   "outputs": [],
   "source": [
    "#Predict sentiment of testing reviews\n",
    "y_pred = classifier.predict(X_test_vec)"
   ]
  },
  {
   "cell_type": "code",
   "execution_count": 45,
   "id": "bab300a9",
   "metadata": {},
   "outputs": [
    {
     "name": "stdout",
     "output_type": "stream",
     "text": [
      "Accuracy: 0.6321075401730532\n"
     ]
    }
   ],
   "source": [
    "#Compare predictions and actual sentiment\n",
    "accuracy = accuracy_score(y_test, y_pred)\n",
    "print(f\"Accuracy: {accuracy:}\")"
   ]
  },
  {
   "cell_type": "markdown",
   "id": "f7614ace",
   "metadata": {},
   "source": [
    "## Logistic Regression With Harry Potter Word2Vec "
   ]
  },
  {
   "cell_type": "code",
   "execution_count": 46,
   "id": "2e9a9cce",
   "metadata": {},
   "outputs": [],
   "source": [
    "#Load pre-trained word2vec embeddings\n",
    "word2vec_model_hp = KeyedVectors.load(\"HarryPotter_Word2Vec_Model.model\")\n"
   ]
  },
  {
   "cell_type": "code",
   "execution_count": 47,
   "id": "d8faecd2",
   "metadata": {},
   "outputs": [],
   "source": [
    "#Getting text from movie review data\n",
    "texts = movie_data['text']\n",
    "\n",
    "# 1 for positive, 0 for negative sentiment\n",
    "labels = movie_data['tag'] "
   ]
  },
  {
   "cell_type": "code",
   "execution_count": 48,
   "id": "3244c373",
   "metadata": {},
   "outputs": [],
   "source": [
    "# Split the dataset keeping 30% for testing\n",
    "X_train, X_test, y_train, y_test = train_test_split(texts, labels, test_size=0.3, random_state=42)"
   ]
  },
  {
   "cell_type": "code",
   "execution_count": 49,
   "id": "3f0b3b71",
   "metadata": {},
   "outputs": [
    {
     "name": "stdout",
     "output_type": "stream",
     "text": [
      "42271    even the intellectuals i know dont bother with...\n",
      "17965    together with other young directors of his new...\n",
      "34526    their songs are alright but they play like lif...\n",
      "21093    things change when he devises cunning plan and...\n",
      "3884     real murderers rarely have dialogue as witty a...\n",
      "                               ...                        \n",
      "62570    other laughable moments include a luc going to...\n",
      "38158    even that aspect of the film fails throwing in...\n",
      "860      it was schreber who contacted john for reasons...\n",
      "15795    sure some have been excellent bound and the us...\n",
      "56422    its a dismal thirdrate farrelly brothers rip o...\n",
      "Name: text, Length: 45304, dtype: object\n"
     ]
    }
   ],
   "source": [
    "print(X_train)"
   ]
  },
  {
   "cell_type": "code",
   "execution_count": 50,
   "id": "cd440a1f",
   "metadata": {},
   "outputs": [
    {
     "data": {
      "text/plain": [
       "\" # Convert texts to average word2vec embeddings as logistic regression requires numerical input\\ndef text_to_avg_word2vec_hp(text):\\n    words = text.split() #Seperates sentences into words\\n    #Filters out words not present in the embedding to improve accuracy\\n    embeddings = []  # Initialize an empty list to store word embeddings\\n    for word in words:\\n        if word in word2vec_model_hp.wv.key_to_index:  # Check if the word is in the model's vocab\\n            embeddings.append(word2vec_model_hp.wv[word]) \\n    if embeddings: #see if any words in the review exists in the harry potter  model\\n        \\n        #If the embedding contains the word in the sentence, the word will be given the average vector from the embedding\\n        return np.mean(embeddings, axis=0)#Averageing vectors to a fixed size vector for logistic regression\\n    else:\\n        return np.zeros(word2vec_model_hp.vector_size) #Vectors of zeros for word not in embedding \""
      ]
     },
     "execution_count": 50,
     "metadata": {},
     "output_type": "execute_result"
    }
   ],
   "source": [
    "\"\"\" # Convert texts to average word2vec embeddings as logistic regression requires numerical input\n",
    "def text_to_avg_word2vec_hp(text):\n",
    "    words = text.split() #Seperates sentences into words\n",
    "    #Filters out words not present in the embedding to improve accuracy\n",
    "    embeddings = []  # Initialize an empty list to store word embeddings\n",
    "    for word in words:\n",
    "        if word in word2vec_model_hp.wv.key_to_index:  # Check if the word is in the model's vocab\n",
    "            embeddings.append(word2vec_model_hp.wv[word]) \n",
    "    if embeddings: #see if any words in the review exists in the harry potter  model\n",
    "        \n",
    "        #If the embedding contains the word in the sentence, the word will be given the average vector from the embedding\n",
    "        return np.mean(embeddings, axis=0)#Averageing vectors to a fixed size vector for logistic regression\n",
    "    else:\n",
    "        return np.zeros(word2vec_model_hp.vector_size) #Vectors of zeros for word not in embedding \"\"\""
   ]
  },
  {
   "cell_type": "code",
   "execution_count": 51,
   "metadata": {},
   "outputs": [],
   "source": [
    "# Convert texts to average word2vec embeddings as logistic regression requires numerical input\n",
    "def text_to_avg_word2vec_hp(text):\n",
    "    words = text.split() #Seperates sentences into words\n",
    "    \n",
    "    #Filters out words not present in the embedding to improve accuracy\n",
    "    embeddings = [word2vec_model_hp.wv[word] for word in words if word in word2vec_model_hp.wv.key_to_index]\n",
    "    if embeddings: #Checks to see if any words in the reviews exists in the Word2Vec model\n",
    "        \n",
    "        #If the embedding contains the word in the sentence, the word will be given the average vector from the embedding\n",
    "        return np.mean(embeddings, axis=0)#Averageing vectors to a fixed size vector for logistic regression\n",
    "    else:\n",
    "        return np.zeros(word2vec_model_hp.vector_size) #Vectors of zeros for word not in embedding\n",
    "\n"
   ]
  },
  {
   "cell_type": "code",
   "execution_count": 52,
   "id": "63659af1",
   "metadata": {},
   "outputs": [],
   "source": [
    "#X_train contains training reviews with average vector from the embedding\n",
    "X_train_vec = [text_to_avg_word2vec_hp(text) for text in X_train]\n",
    "\n",
    "#X_test contains training reviews with average vector from embedding\n",
    "X_test_vec = [text_to_avg_word2vec_hp(text) for text in X_test]"
   ]
  },
  {
   "cell_type": "code",
   "execution_count": 53,
   "id": "7b98a04a",
   "metadata": {},
   "outputs": [
    {
     "data": {
      "text/html": [
       "<style>#sk-container-id-2 {color: black;}#sk-container-id-2 pre{padding: 0;}#sk-container-id-2 div.sk-toggleable {background-color: white;}#sk-container-id-2 label.sk-toggleable__label {cursor: pointer;display: block;width: 100%;margin-bottom: 0;padding: 0.3em;box-sizing: border-box;text-align: center;}#sk-container-id-2 label.sk-toggleable__label-arrow:before {content: \"▸\";float: left;margin-right: 0.25em;color: #696969;}#sk-container-id-2 label.sk-toggleable__label-arrow:hover:before {color: black;}#sk-container-id-2 div.sk-estimator:hover label.sk-toggleable__label-arrow:before {color: black;}#sk-container-id-2 div.sk-toggleable__content {max-height: 0;max-width: 0;overflow: hidden;text-align: left;background-color: #f0f8ff;}#sk-container-id-2 div.sk-toggleable__content pre {margin: 0.2em;color: black;border-radius: 0.25em;background-color: #f0f8ff;}#sk-container-id-2 input.sk-toggleable__control:checked~div.sk-toggleable__content {max-height: 200px;max-width: 100%;overflow: auto;}#sk-container-id-2 input.sk-toggleable__control:checked~label.sk-toggleable__label-arrow:before {content: \"▾\";}#sk-container-id-2 div.sk-estimator input.sk-toggleable__control:checked~label.sk-toggleable__label {background-color: #d4ebff;}#sk-container-id-2 div.sk-label input.sk-toggleable__control:checked~label.sk-toggleable__label {background-color: #d4ebff;}#sk-container-id-2 input.sk-hidden--visually {border: 0;clip: rect(1px 1px 1px 1px);clip: rect(1px, 1px, 1px, 1px);height: 1px;margin: -1px;overflow: hidden;padding: 0;position: absolute;width: 1px;}#sk-container-id-2 div.sk-estimator {font-family: monospace;background-color: #f0f8ff;border: 1px dotted black;border-radius: 0.25em;box-sizing: border-box;margin-bottom: 0.5em;}#sk-container-id-2 div.sk-estimator:hover {background-color: #d4ebff;}#sk-container-id-2 div.sk-parallel-item::after {content: \"\";width: 100%;border-bottom: 1px solid gray;flex-grow: 1;}#sk-container-id-2 div.sk-label:hover label.sk-toggleable__label {background-color: #d4ebff;}#sk-container-id-2 div.sk-serial::before {content: \"\";position: absolute;border-left: 1px solid gray;box-sizing: border-box;top: 0;bottom: 0;left: 50%;z-index: 0;}#sk-container-id-2 div.sk-serial {display: flex;flex-direction: column;align-items: center;background-color: white;padding-right: 0.2em;padding-left: 0.2em;position: relative;}#sk-container-id-2 div.sk-item {position: relative;z-index: 1;}#sk-container-id-2 div.sk-parallel {display: flex;align-items: stretch;justify-content: center;background-color: white;position: relative;}#sk-container-id-2 div.sk-item::before, #sk-container-id-2 div.sk-parallel-item::before {content: \"\";position: absolute;border-left: 1px solid gray;box-sizing: border-box;top: 0;bottom: 0;left: 50%;z-index: -1;}#sk-container-id-2 div.sk-parallel-item {display: flex;flex-direction: column;z-index: 1;position: relative;background-color: white;}#sk-container-id-2 div.sk-parallel-item:first-child::after {align-self: flex-end;width: 50%;}#sk-container-id-2 div.sk-parallel-item:last-child::after {align-self: flex-start;width: 50%;}#sk-container-id-2 div.sk-parallel-item:only-child::after {width: 0;}#sk-container-id-2 div.sk-dashed-wrapped {border: 1px dashed gray;margin: 0 0.4em 0.5em 0.4em;box-sizing: border-box;padding-bottom: 0.4em;background-color: white;}#sk-container-id-2 div.sk-label label {font-family: monospace;font-weight: bold;display: inline-block;line-height: 1.2em;}#sk-container-id-2 div.sk-label-container {text-align: center;}#sk-container-id-2 div.sk-container {/* jupyter's `normalize.less` sets `[hidden] { display: none; }` but bootstrap.min.css set `[hidden] { display: none !important; }` so we also need the `!important` here to be able to override the default hidden behavior on the sphinx rendered scikit-learn.org. See: https://github.com/scikit-learn/scikit-learn/issues/21755 */display: inline-block !important;position: relative;}#sk-container-id-2 div.sk-text-repr-fallback {display: none;}</style><div id=\"sk-container-id-2\" class=\"sk-top-container\"><div class=\"sk-text-repr-fallback\"><pre>LogisticRegression(max_iter=1000)</pre><b>In a Jupyter environment, please rerun this cell to show the HTML representation or trust the notebook. <br />On GitHub, the HTML representation is unable to render, please try loading this page with nbviewer.org.</b></div><div class=\"sk-container\" hidden><div class=\"sk-item\"><div class=\"sk-estimator sk-toggleable\"><input class=\"sk-toggleable__control sk-hidden--visually\" id=\"sk-estimator-id-2\" type=\"checkbox\" checked><label for=\"sk-estimator-id-2\" class=\"sk-toggleable__label sk-toggleable__label-arrow\">LogisticRegression</label><div class=\"sk-toggleable__content\"><pre>LogisticRegression(max_iter=1000)</pre></div></div></div></div></div>"
      ],
      "text/plain": [
       "LogisticRegression(max_iter=1000)"
      ]
     },
     "execution_count": 53,
     "metadata": {},
     "output_type": "execute_result"
    }
   ],
   "source": [
    "#Set up Logistic regression model\n",
    "classifier_hp = LogisticRegression(max_iter=1000)\n",
    "\n",
    "#Train logistic regression model on training vector and Y_train\n",
    "classifier_hp.fit(X_train_vec, y_train)"
   ]
  },
  {
   "cell_type": "code",
   "execution_count": 54,
   "id": "fa1c06af",
   "metadata": {},
   "outputs": [],
   "source": [
    "#Predict sentiment of testing reviews\n",
    "y_pred = classifier_hp.predict(X_test_vec)"
   ]
  },
  {
   "cell_type": "code",
   "execution_count": 55,
   "id": "3edd3bd8",
   "metadata": {},
   "outputs": [
    {
     "name": "stdout",
     "output_type": "stream",
     "text": [
      "Accuracy: 0.54393283889575605450\n"
     ]
    }
   ],
   "source": [
    "#Compare predictions and actual sentiment\n",
    "accuracy = accuracy_score(y_test, y_pred)\n",
    "print(f\"Accuracy: {accuracy:.20f}\")"
   ]
  },
  {
   "cell_type": "markdown",
   "id": "6fc58b37",
   "metadata": {},
   "source": [
    "## Logistic Regression Without Word2Vec"
   ]
  },
  {
   "cell_type": "code",
   "execution_count": 97,
   "id": "cd78fa26",
   "metadata": {},
   "outputs": [],
   "source": [
    "#Getting text from movie review data\n",
    "texts = movie_data['text']\n",
    "\n",
    "# 1 for positive, 0 for negative sentiment\n",
    "labels = movie_data['tag'] # 1 for positive, 0 for negative sentiment"
   ]
  },
  {
   "cell_type": "code",
   "execution_count": 98,
   "id": "1dd03866",
   "metadata": {},
   "outputs": [],
   "source": [
    "# Split the dataset keeping 30% for testing\n",
    "X_train, X_test, y_train, y_test = train_test_split(texts, labels, test_size=0.3, random_state=42)#"
   ]
  },
  {
   "cell_type": "code",
   "execution_count": 99,
   "id": "74570aa5",
   "metadata": {},
   "outputs": [
    {
     "name": "stderr",
     "output_type": "stream",
     "text": [
      "/Users/sameergupta/opt/anaconda3/lib/python3.9/site-packages/sklearn/preprocessing/_encoders.py:972: FutureWarning: `sparse` was renamed to `sparse_output` in version 1.2 and will be removed in 1.4. `sparse_output` is ignored unless you leave `sparse` to its default value.\n",
      "  warnings.warn(\n"
     ]
    }
   ],
   "source": [
    "# Initialize the OneHotEncoder\n",
    "encoder = OneHotEncoder(sparse=False, handle_unknown='ignore')\n",
    "\n",
    "# Convert to a numpy array and reshape for training data\n",
    "X_train_reshaped = X_train.values.reshape(-1, 1)\n",
    "\n",
    "# Fit and transform the training data\n",
    "X_train_encoded = encoder.fit_transform(X_train_reshaped)\n",
    "\n",
    "# Convert to a numpy array and reshape for testing data\n",
    "X_test_reshaped = X_test.values.reshape(-1, 1)\n",
    "\n",
    "# Transform testing data\n",
    "X_test_encoded = encoder.transform(X_test_reshaped)"
   ]
  },
  {
   "cell_type": "code",
   "execution_count": 102,
   "id": "b3485f51",
   "metadata": {},
   "outputs": [
    {
     "data": {
      "text/html": [
       "<style>#sk-container-id-9 {color: black;}#sk-container-id-9 pre{padding: 0;}#sk-container-id-9 div.sk-toggleable {background-color: white;}#sk-container-id-9 label.sk-toggleable__label {cursor: pointer;display: block;width: 100%;margin-bottom: 0;padding: 0.3em;box-sizing: border-box;text-align: center;}#sk-container-id-9 label.sk-toggleable__label-arrow:before {content: \"▸\";float: left;margin-right: 0.25em;color: #696969;}#sk-container-id-9 label.sk-toggleable__label-arrow:hover:before {color: black;}#sk-container-id-9 div.sk-estimator:hover label.sk-toggleable__label-arrow:before {color: black;}#sk-container-id-9 div.sk-toggleable__content {max-height: 0;max-width: 0;overflow: hidden;text-align: left;background-color: #f0f8ff;}#sk-container-id-9 div.sk-toggleable__content pre {margin: 0.2em;color: black;border-radius: 0.25em;background-color: #f0f8ff;}#sk-container-id-9 input.sk-toggleable__control:checked~div.sk-toggleable__content {max-height: 200px;max-width: 100%;overflow: auto;}#sk-container-id-9 input.sk-toggleable__control:checked~label.sk-toggleable__label-arrow:before {content: \"▾\";}#sk-container-id-9 div.sk-estimator input.sk-toggleable__control:checked~label.sk-toggleable__label {background-color: #d4ebff;}#sk-container-id-9 div.sk-label input.sk-toggleable__control:checked~label.sk-toggleable__label {background-color: #d4ebff;}#sk-container-id-9 input.sk-hidden--visually {border: 0;clip: rect(1px 1px 1px 1px);clip: rect(1px, 1px, 1px, 1px);height: 1px;margin: -1px;overflow: hidden;padding: 0;position: absolute;width: 1px;}#sk-container-id-9 div.sk-estimator {font-family: monospace;background-color: #f0f8ff;border: 1px dotted black;border-radius: 0.25em;box-sizing: border-box;margin-bottom: 0.5em;}#sk-container-id-9 div.sk-estimator:hover {background-color: #d4ebff;}#sk-container-id-9 div.sk-parallel-item::after {content: \"\";width: 100%;border-bottom: 1px solid gray;flex-grow: 1;}#sk-container-id-9 div.sk-label:hover label.sk-toggleable__label {background-color: #d4ebff;}#sk-container-id-9 div.sk-serial::before {content: \"\";position: absolute;border-left: 1px solid gray;box-sizing: border-box;top: 0;bottom: 0;left: 50%;z-index: 0;}#sk-container-id-9 div.sk-serial {display: flex;flex-direction: column;align-items: center;background-color: white;padding-right: 0.2em;padding-left: 0.2em;position: relative;}#sk-container-id-9 div.sk-item {position: relative;z-index: 1;}#sk-container-id-9 div.sk-parallel {display: flex;align-items: stretch;justify-content: center;background-color: white;position: relative;}#sk-container-id-9 div.sk-item::before, #sk-container-id-9 div.sk-parallel-item::before {content: \"\";position: absolute;border-left: 1px solid gray;box-sizing: border-box;top: 0;bottom: 0;left: 50%;z-index: -1;}#sk-container-id-9 div.sk-parallel-item {display: flex;flex-direction: column;z-index: 1;position: relative;background-color: white;}#sk-container-id-9 div.sk-parallel-item:first-child::after {align-self: flex-end;width: 50%;}#sk-container-id-9 div.sk-parallel-item:last-child::after {align-self: flex-start;width: 50%;}#sk-container-id-9 div.sk-parallel-item:only-child::after {width: 0;}#sk-container-id-9 div.sk-dashed-wrapped {border: 1px dashed gray;margin: 0 0.4em 0.5em 0.4em;box-sizing: border-box;padding-bottom: 0.4em;background-color: white;}#sk-container-id-9 div.sk-label label {font-family: monospace;font-weight: bold;display: inline-block;line-height: 1.2em;}#sk-container-id-9 div.sk-label-container {text-align: center;}#sk-container-id-9 div.sk-container {/* jupyter's `normalize.less` sets `[hidden] { display: none; }` but bootstrap.min.css set `[hidden] { display: none !important; }` so we also need the `!important` here to be able to override the default hidden behavior on the sphinx rendered scikit-learn.org. See: https://github.com/scikit-learn/scikit-learn/issues/21755 */display: inline-block !important;position: relative;}#sk-container-id-9 div.sk-text-repr-fallback {display: none;}</style><div id=\"sk-container-id-9\" class=\"sk-top-container\"><div class=\"sk-text-repr-fallback\"><pre>LogisticRegression(max_iter=1000)</pre><b>In a Jupyter environment, please rerun this cell to show the HTML representation or trust the notebook. <br />On GitHub, the HTML representation is unable to render, please try loading this page with nbviewer.org.</b></div><div class=\"sk-container\" hidden><div class=\"sk-item\"><div class=\"sk-estimator sk-toggleable\"><input class=\"sk-toggleable__control sk-hidden--visually\" id=\"sk-estimator-id-9\" type=\"checkbox\" checked><label for=\"sk-estimator-id-9\" class=\"sk-toggleable__label sk-toggleable__label-arrow\">LogisticRegression</label><div class=\"sk-toggleable__content\"><pre>LogisticRegression(max_iter=1000)</pre></div></div></div></div></div>"
      ],
      "text/plain": [
       "LogisticRegression(max_iter=1000)"
      ]
     },
     "execution_count": 102,
     "metadata": {},
     "output_type": "execute_result"
    }
   ],
   "source": [
    "#Set up logistic regression model for non Word2Vec model\n",
    "classifier_reg = LogisticRegression(max_iter=1000)\n",
    "\n",
    "#Fit logistic regression on training data\n",
    "#Can take ~15 min to run\n",
    "classifier_reg.fit(X_train_encoded, y_train)\n",
    "\n"
   ]
  },
  {
   "cell_type": "code",
   "execution_count": 103,
   "id": "50d05e52",
   "metadata": {},
   "outputs": [],
   "source": [
    "#Predict sentiment of testing reviews\n",
    "y_pred = classifier_reg.predict(X_test_encoded)"
   ]
  },
  {
   "cell_type": "code",
   "execution_count": 104,
   "id": "52476226",
   "metadata": {},
   "outputs": [
    {
     "name": "stdout",
     "output_type": "stream",
     "text": [
      "Accuracy: 0.5180263700041203\n"
     ]
    }
   ],
   "source": [
    "#Compare predictions and actual sentiment\n",
    "accuracy = accuracy_score(y_test, y_pred)\n",
    "print(f\"Accuracy: {accuracy:}\")"
   ]
  },
  {
   "cell_type": "markdown",
   "id": "b407c9a5",
   "metadata": {},
   "source": [
    "## Logistic Regression With Google Word2Vec: Whole Movie Dataset Training Restaurant Test"
   ]
  },
  {
   "cell_type": "code",
   "execution_count": 76,
   "id": "d1fa7f78",
   "metadata": {},
   "outputs": [],
   "source": [
    "#Getting text from movie review data\n",
    "movie_texts = movie_data['text']\n",
    "\n",
    "# 1 for positive, 0 for negative sentiment\n",
    "movie_labels = movie_data['tag'] # 1 for positive, 0 for negative sentiment"
   ]
  },
  {
   "cell_type": "code",
   "execution_count": 77,
   "id": "14b55d70",
   "metadata": {},
   "outputs": [],
   "source": [
    "#Getting text from restaurant review data\n",
    "restaurant_texts = restaurant_data['Review']\n",
    "\n",
    "# 1 for positive, 0 for negative sentiment\n",
    "restaurant_labels = restaurant_data['Liked'] # 1 for positive, 0 for negative sentiment"
   ]
  },
  {
   "cell_type": "code",
   "execution_count": 78,
   "metadata": {},
   "outputs": [],
   "source": [
    "# Convert texts to average word2vec embeddings as logistic regression requires numerical input\n",
    "def text_to_avg_word2vec(text):\n",
    "    words = text.split() #Seperates sentences into words\n",
    "    \n",
    "    #Filters out words not present in the embedding to improve accuracy\n",
    "    embeddings = [word2vec_model[word] for word in words if word in word2vec_model]\n",
    "    if embeddings: #Checks to see if any words in the reviews exists in the Word2Vec model\n",
    "        \n",
    "        #If the embedding contains the word in the sentence, the word will be given the average vector from the embedding\n",
    "        return np.mean(embeddings, axis=0)#Averageing vectors to a fixed size vector for logistic regression\n",
    "    else:\n",
    "        return np.zeros(word2vec_model.vector_size) #Vectors of zeros for word not in embedding\n",
    "\n"
   ]
  },
  {
   "cell_type": "code",
   "execution_count": 79,
   "id": "22fae0f7",
   "metadata": {},
   "outputs": [],
   "source": [
    "#X_train contains all movie reviews with average vector from the embedding\n",
    "X_train_vec = [text_to_avg_word2vec(text) for text in movie_texts]\n",
    "\n",
    "#X_test contains restaurant reviews labels with average vector from embedding\n",
    "X_test_vec = [text_to_avg_word2vec(text) for text in restaurant_texts]"
   ]
  },
  {
   "cell_type": "code",
   "execution_count": 80,
   "id": "7760d965",
   "metadata": {},
   "outputs": [],
   "source": [
    "#Setting y_train equal to all movie review labels\n",
    "y_train = movie_labels\n",
    "\n",
    "#Setting y_test to all restaurant review labels\n",
    "y_test = restaurant_labels"
   ]
  },
  {
   "cell_type": "code",
   "execution_count": 81,
   "id": "69f70a92",
   "metadata": {},
   "outputs": [
    {
     "data": {
      "text/html": [
       "<style>#sk-container-id-1 {color: black;}#sk-container-id-1 pre{padding: 0;}#sk-container-id-1 div.sk-toggleable {background-color: white;}#sk-container-id-1 label.sk-toggleable__label {cursor: pointer;display: block;width: 100%;margin-bottom: 0;padding: 0.3em;box-sizing: border-box;text-align: center;}#sk-container-id-1 label.sk-toggleable__label-arrow:before {content: \"▸\";float: left;margin-right: 0.25em;color: #696969;}#sk-container-id-1 label.sk-toggleable__label-arrow:hover:before {color: black;}#sk-container-id-1 div.sk-estimator:hover label.sk-toggleable__label-arrow:before {color: black;}#sk-container-id-1 div.sk-toggleable__content {max-height: 0;max-width: 0;overflow: hidden;text-align: left;background-color: #f0f8ff;}#sk-container-id-1 div.sk-toggleable__content pre {margin: 0.2em;color: black;border-radius: 0.25em;background-color: #f0f8ff;}#sk-container-id-1 input.sk-toggleable__control:checked~div.sk-toggleable__content {max-height: 200px;max-width: 100%;overflow: auto;}#sk-container-id-1 input.sk-toggleable__control:checked~label.sk-toggleable__label-arrow:before {content: \"▾\";}#sk-container-id-1 div.sk-estimator input.sk-toggleable__control:checked~label.sk-toggleable__label {background-color: #d4ebff;}#sk-container-id-1 div.sk-label input.sk-toggleable__control:checked~label.sk-toggleable__label {background-color: #d4ebff;}#sk-container-id-1 input.sk-hidden--visually {border: 0;clip: rect(1px 1px 1px 1px);clip: rect(1px, 1px, 1px, 1px);height: 1px;margin: -1px;overflow: hidden;padding: 0;position: absolute;width: 1px;}#sk-container-id-1 div.sk-estimator {font-family: monospace;background-color: #f0f8ff;border: 1px dotted black;border-radius: 0.25em;box-sizing: border-box;margin-bottom: 0.5em;}#sk-container-id-1 div.sk-estimator:hover {background-color: #d4ebff;}#sk-container-id-1 div.sk-parallel-item::after {content: \"\";width: 100%;border-bottom: 1px solid gray;flex-grow: 1;}#sk-container-id-1 div.sk-label:hover label.sk-toggleable__label {background-color: #d4ebff;}#sk-container-id-1 div.sk-serial::before {content: \"\";position: absolute;border-left: 1px solid gray;box-sizing: border-box;top: 0;bottom: 0;left: 50%;z-index: 0;}#sk-container-id-1 div.sk-serial {display: flex;flex-direction: column;align-items: center;background-color: white;padding-right: 0.2em;padding-left: 0.2em;position: relative;}#sk-container-id-1 div.sk-item {position: relative;z-index: 1;}#sk-container-id-1 div.sk-parallel {display: flex;align-items: stretch;justify-content: center;background-color: white;position: relative;}#sk-container-id-1 div.sk-item::before, #sk-container-id-1 div.sk-parallel-item::before {content: \"\";position: absolute;border-left: 1px solid gray;box-sizing: border-box;top: 0;bottom: 0;left: 50%;z-index: -1;}#sk-container-id-1 div.sk-parallel-item {display: flex;flex-direction: column;z-index: 1;position: relative;background-color: white;}#sk-container-id-1 div.sk-parallel-item:first-child::after {align-self: flex-end;width: 50%;}#sk-container-id-1 div.sk-parallel-item:last-child::after {align-self: flex-start;width: 50%;}#sk-container-id-1 div.sk-parallel-item:only-child::after {width: 0;}#sk-container-id-1 div.sk-dashed-wrapped {border: 1px dashed gray;margin: 0 0.4em 0.5em 0.4em;box-sizing: border-box;padding-bottom: 0.4em;background-color: white;}#sk-container-id-1 div.sk-label label {font-family: monospace;font-weight: bold;display: inline-block;line-height: 1.2em;}#sk-container-id-1 div.sk-label-container {text-align: center;}#sk-container-id-1 div.sk-container {/* jupyter's `normalize.less` sets `[hidden] { display: none; }` but bootstrap.min.css set `[hidden] { display: none !important; }` so we also need the `!important` here to be able to override the default hidden behavior on the sphinx rendered scikit-learn.org. See: https://github.com/scikit-learn/scikit-learn/issues/21755 */display: inline-block !important;position: relative;}#sk-container-id-1 div.sk-text-repr-fallback {display: none;}</style><div id=\"sk-container-id-1\" class=\"sk-top-container\"><div class=\"sk-text-repr-fallback\"><pre>LogisticRegression(max_iter=1000)</pre><b>In a Jupyter environment, please rerun this cell to show the HTML representation or trust the notebook. <br />On GitHub, the HTML representation is unable to render, please try loading this page with nbviewer.org.</b></div><div class=\"sk-container\" hidden><div class=\"sk-item\"><div class=\"sk-estimator sk-toggleable\"><input class=\"sk-toggleable__control sk-hidden--visually\" id=\"sk-estimator-id-1\" type=\"checkbox\" checked><label for=\"sk-estimator-id-1\" class=\"sk-toggleable__label sk-toggleable__label-arrow\">LogisticRegression</label><div class=\"sk-toggleable__content\"><pre>LogisticRegression(max_iter=1000)</pre></div></div></div></div></div>"
      ],
      "text/plain": [
       "LogisticRegression(max_iter=1000)"
      ]
     },
     "execution_count": 81,
     "metadata": {},
     "output_type": "execute_result"
    }
   ],
   "source": [
    "#Set up Logistic regression model\n",
    "classifier_final = LogisticRegression(max_iter=1000)\n",
    "\n",
    "#Train logistic regression model on training vector and Y_train\n",
    "classifier_final.fit(X_train_vec, y_train)"
   ]
  },
  {
   "cell_type": "code",
   "execution_count": 82,
   "id": "710b8834",
   "metadata": {},
   "outputs": [],
   "source": [
    "#Predict sentiment of testing reviews\n",
    "y_pred = classifier_final.predict(X_test_vec)"
   ]
  },
  {
   "cell_type": "code",
   "execution_count": 83,
   "id": "47b38db1",
   "metadata": {},
   "outputs": [
    {
     "name": "stdout",
     "output_type": "stream",
     "text": [
      "Accuracy: 0.75400000000000000355\n"
     ]
    }
   ],
   "source": [
    "#Compare predictions and actual sentiment\n",
    "accuracy = accuracy_score(y_test, y_pred)\n",
    "print(f\"Accuracy: {accuracy:.20f}\")"
   ]
  },
  {
   "cell_type": "code",
   "execution_count": 84,
   "id": "5640a0e8",
   "metadata": {},
   "outputs": [
    {
     "data": {
      "text/plain": [
       "<sklearn.metrics._plot.confusion_matrix.ConfusionMatrixDisplay at 0x7fd61f2ffbe0>"
      ]
     },
     "execution_count": 84,
     "metadata": {},
     "output_type": "execute_result"
    },
    {
     "data": {
      "image/png": "[encoded data removed]",
      "text/plain": [
       "<Figure size 640x480 with 2 Axes>"
      ]
     },
     "metadata": {},
     "output_type": "display_data"
    }
   ],
   "source": [
    "#Confusion Matrix\n",
    "matrix = confusion_matrix(y_test, y_pred, normalize = 'all') #Setting up the matrix\n",
    "matrix = ConfusionMatrixDisplay(matrix, display_labels=['1', '0']) #Making matrix nice\n",
    "matrix.plot() #Printing matrix"
   ]
  },
  {
   "cell_type": "markdown",
   "id": "5a43655c",
   "metadata": {},
   "source": [
    "# API Packaging"
   ]
  },
  {
   "cell_type": "code",
   "execution_count": 125,
   "id": "07758559",
   "metadata": {},
   "outputs": [],
   "source": [
    "#Function will predict the sentiment of a single sentence\n",
    "#Parameter statement is a single string\n",
    "#Will utilize Final Embedding with word2vec\n",
    "def predict_sentiment(statement):\n",
    "\n",
    "    #statement contains restaurant reviews labels with average vector from embedding\n",
    "    statement = [text_to_avg_word2vec(statement)]\n",
    "\n",
    "    sentiment = classifier_final.predict(statement)\n",
    "\n",
    "    if sentiment.flat[0] == 0:\n",
    "        sentiment = \"The given text is negative\"\n",
    "    else:\n",
    "        sentiment = \"The given text is positive\"\n",
    "    print(sentiment)"
   ]
  },
  {
   "cell_type": "code",
   "execution_count": 126,
   "id": "a0187489",
   "metadata": {},
   "outputs": [
    {
     "name": "stdout",
     "output_type": "stream",
     "text": [
      "The given text is negative\n",
      "None\n"
     ]
    }
   ],
   "source": [
    "print(predict_sentiment(\"I thought the food was horrible\"))"
   ]
  },
  {
   "cell_type": "code",
   "execution_count": 127,
   "id": "e683daeb",
   "metadata": {},
   "outputs": [
    {
     "name": "stdout",
     "output_type": "stream",
     "text": [
      "The given text is positive\n",
      "None\n"
     ]
    }
   ],
   "source": [
    "print(predict_sentiment(\"The food was amazing. I enjoyed the food!\"))"
   ]
  },
  {
   "cell_type": "code",
   "execution_count": 128,
   "id": "bce190b1",
   "metadata": {},
   "outputs": [
    {
     "name": "stdout",
     "output_type": "stream",
     "text": [
      "The given text is negative\n",
      "None\n"
     ]
    }
   ],
   "source": [
    "print(predict_sentiment(\"I liked the food but it could have been better\"))"
   ]
  },
  {
   "cell_type": "code",
   "execution_count": 132,
   "id": "ae7c19a7",
   "metadata": {},
   "outputs": [
    {
     "name": "stdout",
     "output_type": "stream",
     "text": [
      "The given text is positive\n"
     ]
    }
   ],
   "source": [
    "# Create a function to predict the sentiment given text\n",
    "def on_button_click():\n",
    "    input_text = input_entry.get()\n",
    "    try:\n",
    "        predict_sentiment(input_text.lower()) #Printing sentiment prediction in console\n",
    "    except Exception as e:\n",
    "        messagebox.showerror(\"Error\", f\"An error occurred: {str(e)}\")\n",
    "\n",
    "# Create GUI\n",
    "app = tk.Tk()\n",
    "app.title(\"Sentiment Analysis\")\n",
    "\n",
    "# Create a label\n",
    "label = tk.Label(app, text=\"Enter a string:\")\n",
    "label.pack()\n",
    "\n",
    "# Create an entry user input\n",
    "input_entry = tk.Entry(app, width=40)\n",
    "input_entry.pack()\n",
    "\n",
    "# Create a button to trigger analysis\n",
    "button = tk.Button(app, text=\"Analyze\", command=on_button_click)\n",
    "button.pack()\n",
    "\n",
    "# Run\n",
    "app.mainloop()"
   ]
  }
 ],
 "metadata": {
  "kernelspec": {
   "display_name": "Python 3 (ipykernel)",
   "language": "python",
   "name": "python3"
  },
  "language_info": {
   "codemirror_mode": {
    "name": "ipython",
    "version": 3
   },
   "file_extension": ".py",
   "mimetype": "text/x-python",
   "name": "python",
   "nbconvert_exporter": "python",
   "pygments_lexer": "ipython3",
   "version": "3.9.12"
  }
 },
 "nbformat": 4,
 "nbformat_minor": 5
}
